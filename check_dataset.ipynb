{
 "cells": [
  {
   "cell_type": "code",
   "execution_count": 9,
   "id": "95da85ee-2f78-4999-b791-c650750aaf33",
   "metadata": {},
   "outputs": [
    {
     "data": {
      "application/vnd.jupyter.widget-view+json": {
       "model_id": "6aafaeadd58a423b8b3722e3635f2970",
       "version_major": 2,
       "version_minor": 0
      },
      "text/plain": [
       "Generating train split: 0 examples [00:00, ? examples/s]"
      ]
     },
     "metadata": {},
     "output_type": "display_data"
    }
   ],
   "source": [
    "from datasets import Dataset\n",
    "\n",
    "# Load from JSON\n",
    "mi_dataset = Dataset.from_json(\"final_dataset.json\")"
   ]
  },
  {
   "cell_type": "code",
   "execution_count": 10,
   "id": "549657ff-b620-486f-b62f-95479ddaaba8",
   "metadata": {},
   "outputs": [
    {
     "data": {
      "text/plain": [
       "Dataset({\n",
       "    features: ['conversations'],\n",
       "    num_rows: 4796\n",
       "})"
      ]
     },
     "execution_count": 10,
     "metadata": {},
     "output_type": "execute_result"
    }
   ],
   "source": [
    "mi_dataset\n"
   ]
  },
  {
   "cell_type": "code",
   "execution_count": 11,
   "id": "15c6d132-d79b-46f1-b86f-3f4c943b4d87",
   "metadata": {},
   "outputs": [
    {
     "name": "stdout",
     "output_type": "stream",
     "text": [
      "[{'content': 'Yes.', 'role': 'user'}, {'content': 'Healthy weight loss is about one to two pounds a week and once we get you set up and actually into the program you can look for that to happen for about one to two pounds a week to get you on that goal.', 'role': 'assistant'}, {'content': 'Okay.', 'role': 'user'}, {'content': \"And if at any point in time you want to lose more than 25 or less than 25 you can go ahead and change that.. Okay?  Do you have any questions at all about what this is supposed to look like?  I know you don't have much information yet.\", 'role': 'assistant'}, {'content': 'No.', 'role': 'user'}, {'content': \"It's just like to help you lose weight.. What questions do you have for me?\", 'role': 'assistant'}, {'content': 'None.', 'role': 'user'}, {'content': 'Anything.', 'role': 'assistant'}, {'content': 'None.', 'role': 'user'}, {'content': \"Okay.  Alright  you can go and get your mom and I can talk to her.. Okay  so tell me about Xxxx's current weight status and how you feel about that.\", 'role': 'assistant'}, {'content': \"She big. [laughs] I don't know how you say that  not say that.  I kind of figured it was in my genes a little bit and in her father's genes because she has  over six feet tall  so with that I thought we were just like  they were okay for their height based on their  but one of the appointments we had and I found out they were like borderline diabetics I was like  I know I'm a diabetic so I didn't want her to have to go through that.  So.\", 'role': 'user'}, {'content': \"Okay  so for health reasons.. Specifically has she'do you know of any like health reasons or health risks that have come up because of her weight now?\", 'role': 'assistant'}]\n"
     ]
    }
   ],
   "source": [
    "print(mi_dataset[3]['conversations']) "
   ]
  },
  {
   "cell_type": "code",
   "execution_count": null,
   "id": "a0ebeb5d-605b-43c1-899a-093a9f38c6b9",
   "metadata": {},
   "outputs": [],
   "source": []
  }
 ],
 "metadata": {
  "kernelspec": {
   "display_name": "Python 3 (ipykernel)",
   "language": "python",
   "name": "python3"
  },
  "language_info": {
   "codemirror_mode": {
    "name": "ipython",
    "version": 3
   },
   "file_extension": ".py",
   "mimetype": "text/x-python",
   "name": "python",
   "nbconvert_exporter": "python",
   "pygments_lexer": "ipython3",
   "version": "3.11.10"
  }
 },
 "nbformat": 4,
 "nbformat_minor": 5
}
